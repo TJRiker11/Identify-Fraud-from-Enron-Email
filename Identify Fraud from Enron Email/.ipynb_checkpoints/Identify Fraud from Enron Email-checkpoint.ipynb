{
 "cells": [
  {
   "cell_type": "markdown",
   "metadata": {},
   "source": [
    "# Identify Fraud from Enron Email"
   ]
  },
  {
   "cell_type": "markdown",
   "metadata": {},
   "source": [
    "## Introduction\n",
    "\n",
    "> In 2000, Enron was one of the largest companies in the United States. By 2002, it had collapsed into bankruptcy due to widespread corporate fraud. In the resulting Federal investigation, a significant amount of typically confidential information entered into the public record, including tens of thousands of emails and detailed financial data for top executives.\n",
    "\n",
    "> This project is to build a Person of Interest(PoI) identifier based on financial and email data made public as a result of the Enron scandal. A PoI is a person who falls under one of the following categories:\n",
    ">* Individuals who were indicted\n",
    ">* Individuals who reached a settlement or plea deal with the government\n",
    ">* Individuals who testified in exchange for prosecution immunity\n",
    "\n",
    "> Background, project overview, and questions to be answered can be found [Here](https://github.com/TrikerDev/Identify-Fraud-from-Enron-Email/blob/master/README.md). This full project and all files and data included can be found in [this Github Repository](https://github.com/TrikerDev/Identify-Fraud-from-Enron-Email). More specifically, there is information such as [Insider Pay](https://github.com/TrikerDev/Identify-Fraud-from-Enron-Email/blob/master/Identify%20Fraud%20from%20Enron%20Email/Enron%20Data/enron61702insiderpay.pdf), [emails from certain employees](https://github.com/TrikerDev/Identify-Fraud-from-Enron-Email/tree/master/Identify%20Fraud%20from%20Enron%20Email/Enron%20Data/emails_by_address), [PoI names](https://github.com/TrikerDev/Identify-Fraud-from-Enron-Email/blob/master/Identify%20Fraud%20from%20Enron%20Email/Enron%20Data/poi_names.txt), and more that can be found [Here](https://github.com/TrikerDev/Identify-Fraud-from-Enron-Email/tree/master/Identify%20Fraud%20from%20Enron%20Email/Enron%20Data)."
   ]
  },
  {
   "cell_type": "markdown",
   "metadata": {},
   "source": [
    "## Exploring Data"
   ]
  },
  {
   "cell_type": "code",
   "execution_count": 18,
   "metadata": {},
   "outputs": [],
   "source": [
    "# Importing libraries to be used\n",
    "import sys\n",
    "import pickle\n",
    "sys.path.append(\"C:/Users/TJ/Documents/Identify-Fraud-from-Enron-Email/Identify Fraud from Enron Email/Enron Data\")\n",
    "\n",
    "from feature_format import featureFormat, targetFeatureSplit\n",
    "from tester import dump_classifier_and_data"
   ]
  },
  {
   "cell_type": "code",
   "execution_count": 19,
   "metadata": {},
   "outputs": [],
   "source": [
    "# Load the dictionary containing the dataset\n",
    "data = pickle.load(open(\"C:/Users/TJ/Documents/Identify-Fraud-from-Enron-Email/Identify Fraud from Enron Email/Enron Data/final_project_dataset.pkl\", \"r\") )"
   ]
  },
  {
   "cell_type": "code",
   "execution_count": null,
   "metadata": {},
   "outputs": [],
   "source": []
  },
  {
   "cell_type": "code",
   "execution_count": null,
   "metadata": {},
   "outputs": [],
   "source": []
  }
 ],
 "metadata": {
  "kernelspec": {
   "display_name": "Python 2",
   "language": "python",
   "name": "python2"
  },
  "language_info": {
   "codemirror_mode": {
    "name": "ipython",
    "version": 2
   },
   "file_extension": ".py",
   "mimetype": "text/x-python",
   "name": "python",
   "nbconvert_exporter": "python",
   "pygments_lexer": "ipython2",
   "version": "2.7.16"
  }
 },
 "nbformat": 4,
 "nbformat_minor": 2
}
