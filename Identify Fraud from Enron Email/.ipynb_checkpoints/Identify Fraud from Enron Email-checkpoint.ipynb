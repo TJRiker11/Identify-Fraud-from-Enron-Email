{
 "cells": [
  {
   "cell_type": "markdown",
   "metadata": {},
   "source": [
    "# Identify Fraud from Enron Email"
   ]
  },
  {
   "cell_type": "markdown",
   "metadata": {},
   "source": [
    "## Introduction\n",
    "\n",
    "> In 2000, Enron was one of the largest companies in the United States. By 2002, it had collapsed into bankruptcy due to widespread corporate fraud. In the resulting Federal investigation, a significant amount of typically confidential information entered into the public record, including tens of thousands of emails and detailed financial data for top executives. This project is to build a person of interest identifier based on financial and email data made public as a result of the Enron scandal.\n",
    "\n",
    "> A Person of Interest(PoI) is an individual who meets one of the following criteria:\n",
    ">* Individuals who were indicted\n",
    ">* Individuals who reached a settlement or plea deal with the government\n",
    ">* Individuals who testified in exchange for prosecution immunity.\n",
    "\n",
    "> The full project and all data for this project can be seen in [this Github repository](https://github.com/TrikerDev/Identify-Fraud-from-Enron-Email). Data such as financial records, emails from employees, PoI names, etc, can be seen [here](https://github.com/TrikerDev/Identify-Fraud-from-Enron-Email/tree/master/Identify%20Fraud%20from%20Enron%20Email/Enron%20Data)."
   ]
  },
  {
   "cell_type": "markdown",
   "metadata": {},
   "source": [
    "## Data Exploration"
   ]
  },
  {
   "cell_type": "code",
   "execution_count": 1,
   "metadata": {},
   "outputs": [],
   "source": [
    "# Importing packages\n",
    "import sys\n",
    "import pickle\n",
    "sys.path.append(\"Enron Data/\")\n",
    "from feature_format import featureFormat, targetFeatureSplit\n",
    "from tester import dump_classifier_and_data, test_classifier\n",
    "from util import nanDetectorForValues, nanDetectorForKeys, explore, findIndex, computeFraction\n",
    "from util import plotBar"
   ]
  },
  {
   "cell_type": "code",
   "execution_count": 2,
   "metadata": {},
   "outputs": [],
   "source": [
    "# Loading data\n",
    "with open(\"Enron Data/final_project_dataset.pkl\", \"r\") as data_file:\n",
    "    data_dict = pickle.load(data_file)"
   ]
  },
  {
   "cell_type": "code",
   "execution_count": 3,
   "metadata": {},
   "outputs": [
    {
     "data": {
      "text/plain": [
       "146"
      ]
     },
     "execution_count": 3,
     "metadata": {},
     "output_type": "execute_result"
    }
   ],
   "source": [
    "# The number of executives in the dataset\n",
    "len(data_dict)"
   ]
  },
  {
   "cell_type": "markdown",
   "metadata": {},
   "source": [
    "> This shows that there are 146 executives in the dataset."
   ]
  },
  {
   "cell_type": "code",
   "execution_count": 4,
   "metadata": {
    "scrolled": false
   },
   "outputs": [
    {
     "name": "stdout",
     "output_type": "stream",
     "text": [
      "['METTS MARK', 'BAXTER JOHN C', 'ELLIOTT STEVEN', 'CORDES WILLIAM R', 'HANNON KEVIN P', 'MORDAUNT KRISTINA M', 'MEYER ROCKFORD G', 'MCMAHON JEFFREY', 'HORTON STANLEY C', 'PIPER GREGORY F', 'HUMPHREY GENE E', 'UMANOFF ADAM S', 'BLACHMAN JEREMY M', 'SUNDE MARTIN', 'GIBBS DANA R', 'LOWRY CHARLES P', 'COLWELL WESLEY', 'MULLER MARK S', 'JACKSON CHARLENE R', 'WESTFAHL RICHARD K', 'WALTERS GARETH W', 'WALLS JR ROBERT H', 'KITCHEN LOUISE', 'CHAN RONNIE', 'BELFER ROBERT', 'SHANKMAN JEFFREY A', 'WODRASKA JOHN', 'BERGSIEKER RICHARD P', 'URQUHART JOHN A', 'BIBI PHILIPPE A', 'RIEKER PAULA H', 'WHALEY DAVID A', 'BECK SALLY W', 'HAUG DAVID L', 'ECHOLS JOHN B', 'MENDELSOHN JOHN', 'HICKERSON GARY J', 'CLINE KENNETH W', 'LEWIS RICHARD', 'HAYES ROBERT E', 'MCCARTY DANNY J', 'KOPPER MICHAEL J', 'LEFF DANIEL P', 'LAVORATO JOHN J', 'BERBERIAN DAVID', 'DETMERING TIMOTHY J', 'WAKEHAM JOHN', 'POWERS WILLIAM', 'GOLD JOSEPH', 'BANNANTINE JAMES M', 'DUNCAN JOHN H', 'SHAPIRO RICHARD S', 'SHERRIFF JOHN R', 'SHELBY REX', 'LEMAISTRE CHARLES', 'DEFFNER JOSEPH M', 'KISHKILL JOSEPH G', 'WHALLEY LAWRENCE G', 'MCCONNELL MICHAEL S', 'PIRO JIM', 'DELAINEY DAVID W', 'SULLIVAN-SHAKLOVITZ COLLEEN', 'WROBEL BRUCE', 'LINDHOLM TOD A', 'MEYER JEROME J', 'LAY KENNETH L', 'BUTTS ROBERT H', 'OLSON CINDY K', 'MCDONALD REBECCA', 'CUMBERLAND MICHAEL S', 'GAHN ROBERT S', 'MCCLELLAN GEORGE', 'HERMANN ROBERT J', 'SCRIMSHAW MATTHEW', 'GATHMANN WILLIAM D', 'HAEDICKE MARK E', 'BOWEN JR RAYMOND M', 'GILLIS JOHN', 'FITZGERALD JAY L', 'MORAN MICHAEL P', 'REDMOND BRIAN L', 'BAZELIDES PHILIP J', 'BELDEN TIMOTHY N', 'DURAN WILLIAM D', 'THORN TERENCE H', 'FASTOW ANDREW S', 'FOY JOE', 'CALGER CHRISTOPHER F', 'RICE KENNETH D', 'KAMINSKI WINCENTY J', 'LOCKHART EUGENE E', 'COX DAVID', 'OVERDYKE JR JERE C', 'PEREIRA PAULO V. FERRAZ', 'STABLER FRANK', 'SKILLING JEFFREY K', 'BLAKE JR. NORMAN P', 'SHERRICK JEFFREY B', 'PRENTICE JAMES', 'GRAY RODNEY', 'PICKERING MARK R', 'THE TRAVEL AGENCY IN THE PARK', 'NOLES JAMES L', 'KEAN STEVEN J', 'TOTAL', 'FOWLER PEGGY', 'WASAFF GEORGE', 'WHITE JR THOMAS E', 'CHRISTODOULOU DIOMEDES', 'ALLEN PHILLIP K', 'SHARP VICTORIA T', 'JAEDICKE ROBERT', 'WINOKUR JR. HERBERT S', 'BROWN MICHAEL', 'BADUM JAMES P', 'HUGHES JAMES A', 'REYNOLDS LAWRENCE', 'DIMICHELE RICHARD G', 'BHATNAGAR SANJAY', 'CARTER REBECCA C', 'BUCHANAN HAROLD G', 'YEAP SOON', 'MURRAY JULIA H', 'GARLAND C KEVIN', 'DODSON KEITH', 'YEAGER F SCOTT', 'HIRKO JOSEPH', 'DIETRICH JANET R', 'DERRICK JR. JAMES V', 'FREVERT MARK A', 'PAI LOU L', 'BAY FRANKLIN R', 'HAYSLETT RODERICK J', 'FUGH JOHN L', 'FALLON JAMES B', 'KOENIG MARK E', 'SAVAGE FRANK', 'IZZO LAWRENCE L', 'TILNEY ELIZABETH A', 'MARTIN AMANDA K', 'BUY RICHARD B', 'GRAMM WENDY L', 'CAUSEY RICHARD A', 'TAYLOR MITCHELL S', 'DONAHUE JR JEFFREY M', 'GLISAN JR BEN F']\n"
     ]
    }
   ],
   "source": [
    "# The names of the executives\n",
    "print data_dict.keys()"
   ]
  },
  {
   "cell_type": "markdown",
   "metadata": {},
   "source": [
    "> This is the names of all 146 executives in the dataset. Scanning over it, we can see that there are many names, but also several names that dont really make sense in this context. These will be taken care of in the next section."
   ]
  },
  {
   "cell_type": "code",
   "execution_count": 5,
   "metadata": {},
   "outputs": [
    {
     "name": "stdout",
     "output_type": "stream",
     "text": [
      "There are 18 person of interest.\n",
      "['HANNON KEVIN P', 'COLWELL WESLEY', 'RIEKER PAULA H', 'KOPPER MICHAEL J', 'SHELBY REX', 'DELAINEY DAVID W', 'LAY KENNETH L', 'BOWEN JR RAYMOND M', 'BELDEN TIMOTHY N', 'FASTOW ANDREW S', 'CALGER CHRISTOPHER F', 'RICE KENNETH D', 'SKILLING JEFFREY K', 'YEAGER F SCOTT', 'HIRKO JOSEPH', 'KOENIG MARK E', 'CAUSEY RICHARD A', 'GLISAN JR BEN F']\n"
     ]
    }
   ],
   "source": [
    "# count people of interest\n",
    "count_poi = 0\n",
    "poi_name = []\n",
    "for entry in data_dict:\n",
    "    if data_dict[entry]['poi'] == 1:\n",
    "        count_poi += 1\n",
    "        poi_name.append(entry)\n",
    "print \"There are \" + str(count_poi) + \" person of interest.\"\n",
    "print poi_name"
   ]
  },
  {
   "cell_type": "markdown",
   "metadata": {},
   "source": [
    "> This shows that there are 18 total people of interest and the names of those individuals. This also means that since there are 146 total people, and only 18 of them are PoIs, then there are 128 individuals who are not a person of interest."
   ]
  },
  {
   "cell_type": "markdown",
   "metadata": {},
   "source": [
    "## Outlier Removal"
   ]
  },
  {
   "cell_type": "markdown",
   "metadata": {},
   "source": [
    "> Right away, we can see some outliers in this dataset. The first is 'THE TRAVEL AGENCY IN THE PARK'. This is supposed to be a list of the names of executives, so this is clearly in the wrong place. Another outlier is 'TOTAL'. This 'TOTAL' data is the sum of all other executives. We dont want the total of every person on the list, so this is an outlier that will be removed"
   ]
  },
  {
   "cell_type": "code",
   "execution_count": 6,
   "metadata": {},
   "outputs": [
    {
     "data": {
      "text/plain": [
       "{'bonus': 'NaN',\n",
       " 'deferral_payments': 'NaN',\n",
       " 'deferred_income': 'NaN',\n",
       " 'director_fees': 'NaN',\n",
       " 'email_address': 'NaN',\n",
       " 'exercised_stock_options': 'NaN',\n",
       " 'expenses': 'NaN',\n",
       " 'from_messages': 'NaN',\n",
       " 'from_poi_to_this_person': 'NaN',\n",
       " 'from_this_person_to_poi': 'NaN',\n",
       " 'loan_advances': 'NaN',\n",
       " 'long_term_incentive': 'NaN',\n",
       " 'other': 362096,\n",
       " 'poi': False,\n",
       " 'restricted_stock': 'NaN',\n",
       " 'restricted_stock_deferred': 'NaN',\n",
       " 'salary': 'NaN',\n",
       " 'shared_receipt_with_poi': 'NaN',\n",
       " 'to_messages': 'NaN',\n",
       " 'total_payments': 362096,\n",
       " 'total_stock_value': 'NaN'}"
      ]
     },
     "execution_count": 6,
     "metadata": {},
     "output_type": "execute_result"
    }
   ],
   "source": [
    "# Removing THE TRAVEL AGENCY IN THE PARK outlier\n",
    "data_dict.pop('THE TRAVEL AGENCY IN THE PARK', 0)"
   ]
  },
  {
   "cell_type": "code",
   "execution_count": 7,
   "metadata": {},
   "outputs": [
    {
     "data": {
      "text/plain": [
       "{'bonus': 97343619,\n",
       " 'deferral_payments': 32083396,\n",
       " 'deferred_income': -27992891,\n",
       " 'director_fees': 1398517,\n",
       " 'email_address': 'NaN',\n",
       " 'exercised_stock_options': 311764000,\n",
       " 'expenses': 5235198,\n",
       " 'from_messages': 'NaN',\n",
       " 'from_poi_to_this_person': 'NaN',\n",
       " 'from_this_person_to_poi': 'NaN',\n",
       " 'loan_advances': 83925000,\n",
       " 'long_term_incentive': 48521928,\n",
       " 'other': 42667589,\n",
       " 'poi': False,\n",
       " 'restricted_stock': 130322299,\n",
       " 'restricted_stock_deferred': -7576788,\n",
       " 'salary': 26704229,\n",
       " 'shared_receipt_with_poi': 'NaN',\n",
       " 'to_messages': 'NaN',\n",
       " 'total_payments': 309886585,\n",
       " 'total_stock_value': 434509511}"
      ]
     },
     "execution_count": 7,
     "metadata": {},
     "output_type": "execute_result"
    }
   ],
   "source": [
    "# Removing TOTAL outlier\n",
    "data_dict.pop('TOTAL', 0)"
   ]
  },
  {
   "cell_type": "markdown",
   "metadata": {},
   "source": [
    "> Another way to find potential outliers is to find individuals who may have Total Payments as NaN. This could potentially mean that this person should not be included."
   ]
  },
  {
   "cell_type": "code",
   "execution_count": 8,
   "metadata": {
    "scrolled": false
   },
   "outputs": [
    {
     "name": "stdout",
     "output_type": "stream",
     "text": [
      "CORDES WILLIAM R\n",
      "LOWRY CHARLES P\n",
      "CHAN RONNIE\n",
      "WHALEY DAVID A\n",
      "CLINE KENNETH W\n",
      "LEWIS RICHARD\n",
      "MCCARTY DANNY J\n",
      "POWERS WILLIAM\n",
      "PIRO JIM\n",
      "WROBEL BRUCE\n",
      "MCDONALD REBECCA\n",
      "SCRIMSHAW MATTHEW\n",
      "GATHMANN WILLIAM D\n",
      "GILLIS JOHN\n",
      "MORAN MICHAEL P\n",
      "LOCKHART EUGENE E\n",
      "SHERRICK JEFFREY B\n",
      "FOWLER PEGGY\n",
      "CHRISTODOULOU DIOMEDES\n",
      "HUGHES JAMES A\n",
      "HAYSLETT RODERICK J\n"
     ]
    }
   ],
   "source": [
    "# List of people with no total payment data\n",
    "for entry in data_dict:\n",
    "    if data_dict[entry]['total_payments'] == 'NaN':\n",
    "        print entry"
   ]
  },
  {
   "cell_type": "markdown",
   "metadata": {},
   "source": [
    "> This could be narrowed down further by adding another main criteria to the list: the stock options."
   ]
  },
  {
   "cell_type": "code",
   "execution_count": 9,
   "metadata": {
    "scrolled": true
   },
   "outputs": [
    {
     "name": "stdout",
     "output_type": "stream",
     "text": [
      "CHAN RONNIE\n",
      "POWERS WILLIAM\n",
      "LOCKHART EUGENE E\n"
     ]
    }
   ],
   "source": [
    "# List of people with no total payment data and no stock option data\n",
    "for entry in data_dict:\n",
    "    if data_dict[entry]['total_payments'] == 'NaN' and data_dict[entry]['total_stock_value'] == 'NaN':\n",
    "        print entry"
   ]
  },
  {
   "cell_type": "markdown",
   "metadata": {},
   "source": [
    "> Investigating these individuals, we can see that they are missing lots of information."
   ]
  },
  {
   "cell_type": "code",
   "execution_count": 10,
   "metadata": {},
   "outputs": [
    {
     "data": {
      "text/plain": [
       "{'bonus': 'NaN',\n",
       " 'deferral_payments': 'NaN',\n",
       " 'deferred_income': -98784,\n",
       " 'director_fees': 98784,\n",
       " 'email_address': 'NaN',\n",
       " 'exercised_stock_options': 'NaN',\n",
       " 'expenses': 'NaN',\n",
       " 'from_messages': 'NaN',\n",
       " 'from_poi_to_this_person': 'NaN',\n",
       " 'from_this_person_to_poi': 'NaN',\n",
       " 'loan_advances': 'NaN',\n",
       " 'long_term_incentive': 'NaN',\n",
       " 'other': 'NaN',\n",
       " 'poi': False,\n",
       " 'restricted_stock': 32460,\n",
       " 'restricted_stock_deferred': -32460,\n",
       " 'salary': 'NaN',\n",
       " 'shared_receipt_with_poi': 'NaN',\n",
       " 'to_messages': 'NaN',\n",
       " 'total_payments': 'NaN',\n",
       " 'total_stock_value': 'NaN'}"
      ]
     },
     "execution_count": 10,
     "metadata": {},
     "output_type": "execute_result"
    }
   ],
   "source": [
    "# Investigating CHAN RONNIE\n",
    "data_dict['CHAN RONNIE']"
   ]
  },
  {
   "cell_type": "code",
   "execution_count": 11,
   "metadata": {
    "scrolled": false
   },
   "outputs": [
    {
     "data": {
      "text/plain": [
       "{'bonus': 'NaN',\n",
       " 'deferral_payments': 'NaN',\n",
       " 'deferred_income': -17500,\n",
       " 'director_fees': 17500,\n",
       " 'email_address': 'ken.powers@enron.com',\n",
       " 'exercised_stock_options': 'NaN',\n",
       " 'expenses': 'NaN',\n",
       " 'from_messages': 26,\n",
       " 'from_poi_to_this_person': 0,\n",
       " 'from_this_person_to_poi': 0,\n",
       " 'loan_advances': 'NaN',\n",
       " 'long_term_incentive': 'NaN',\n",
       " 'other': 'NaN',\n",
       " 'poi': False,\n",
       " 'restricted_stock': 'NaN',\n",
       " 'restricted_stock_deferred': 'NaN',\n",
       " 'salary': 'NaN',\n",
       " 'shared_receipt_with_poi': 12,\n",
       " 'to_messages': 653,\n",
       " 'total_payments': 'NaN',\n",
       " 'total_stock_value': 'NaN'}"
      ]
     },
     "execution_count": 11,
     "metadata": {},
     "output_type": "execute_result"
    }
   ],
   "source": [
    "# Investigating POWERS WILLIAM\n",
    "data_dict['POWERS WILLIAM']"
   ]
  },
  {
   "cell_type": "code",
   "execution_count": 12,
   "metadata": {},
   "outputs": [
    {
     "data": {
      "text/plain": [
       "{'bonus': 'NaN',\n",
       " 'deferral_payments': 'NaN',\n",
       " 'deferred_income': 'NaN',\n",
       " 'director_fees': 'NaN',\n",
       " 'email_address': 'NaN',\n",
       " 'exercised_stock_options': 'NaN',\n",
       " 'expenses': 'NaN',\n",
       " 'from_messages': 'NaN',\n",
       " 'from_poi_to_this_person': 'NaN',\n",
       " 'from_this_person_to_poi': 'NaN',\n",
       " 'loan_advances': 'NaN',\n",
       " 'long_term_incentive': 'NaN',\n",
       " 'other': 'NaN',\n",
       " 'poi': False,\n",
       " 'restricted_stock': 'NaN',\n",
       " 'restricted_stock_deferred': 'NaN',\n",
       " 'salary': 'NaN',\n",
       " 'shared_receipt_with_poi': 'NaN',\n",
       " 'to_messages': 'NaN',\n",
       " 'total_payments': 'NaN',\n",
       " 'total_stock_value': 'NaN'}"
      ]
     },
     "execution_count": 12,
     "metadata": {},
     "output_type": "execute_result"
    }
   ],
   "source": [
    "# Investigating LOCKHART EUGENE E\n",
    "data_dict['LOCKHART EUGENE E']"
   ]
  },
  {
   "cell_type": "markdown",
   "metadata": {},
   "source": [
    "> LOCKHART EUGENE E is the most obvious outlier here, as this individual has NaN for every feature, and he is also not a PoI. This is an outlier that will be removed.\n",
    "\n",
    "> CHAN RONNIE is also an outlier, as he as NaN for most features and is not a PoI. The features he does have are payments and stock. However, these are both cancelled out to zero as they are deferred for the exact same amount. This leaves us with another blank slate. This outlier will be removed.\n",
    "\n",
    "> POWERS WILLIAM does have NaN and 0 for many of the features, however he does have several features that the other two did not have, such as messages and receipts. This gives up more information that can be used in the investigation. So even though much information is missing, we can still gather some data from this individual. This is not an outlier."
   ]
  },
  {
   "cell_type": "code",
   "execution_count": 13,
   "metadata": {},
   "outputs": [
    {
     "data": {
      "text/plain": [
       "{'bonus': 'NaN',\n",
       " 'deferral_payments': 'NaN',\n",
       " 'deferred_income': 'NaN',\n",
       " 'director_fees': 'NaN',\n",
       " 'email_address': 'NaN',\n",
       " 'exercised_stock_options': 'NaN',\n",
       " 'expenses': 'NaN',\n",
       " 'from_messages': 'NaN',\n",
       " 'from_poi_to_this_person': 'NaN',\n",
       " 'from_this_person_to_poi': 'NaN',\n",
       " 'loan_advances': 'NaN',\n",
       " 'long_term_incentive': 'NaN',\n",
       " 'other': 'NaN',\n",
       " 'poi': False,\n",
       " 'restricted_stock': 'NaN',\n",
       " 'restricted_stock_deferred': 'NaN',\n",
       " 'salary': 'NaN',\n",
       " 'shared_receipt_with_poi': 'NaN',\n",
       " 'to_messages': 'NaN',\n",
       " 'total_payments': 'NaN',\n",
       " 'total_stock_value': 'NaN'}"
      ]
     },
     "execution_count": 13,
     "metadata": {},
     "output_type": "execute_result"
    }
   ],
   "source": [
    "# Removing LOCKHART EUGENE E outlier\n",
    "data_dict.pop('LOCKHART EUGENE E', 0)"
   ]
  },
  {
   "cell_type": "code",
   "execution_count": 14,
   "metadata": {},
   "outputs": [
    {
     "data": {
      "text/plain": [
       "{'bonus': 'NaN',\n",
       " 'deferral_payments': 'NaN',\n",
       " 'deferred_income': -98784,\n",
       " 'director_fees': 98784,\n",
       " 'email_address': 'NaN',\n",
       " 'exercised_stock_options': 'NaN',\n",
       " 'expenses': 'NaN',\n",
       " 'from_messages': 'NaN',\n",
       " 'from_poi_to_this_person': 'NaN',\n",
       " 'from_this_person_to_poi': 'NaN',\n",
       " 'loan_advances': 'NaN',\n",
       " 'long_term_incentive': 'NaN',\n",
       " 'other': 'NaN',\n",
       " 'poi': False,\n",
       " 'restricted_stock': 32460,\n",
       " 'restricted_stock_deferred': -32460,\n",
       " 'salary': 'NaN',\n",
       " 'shared_receipt_with_poi': 'NaN',\n",
       " 'to_messages': 'NaN',\n",
       " 'total_payments': 'NaN',\n",
       " 'total_stock_value': 'NaN'}"
      ]
     },
     "execution_count": 14,
     "metadata": {},
     "output_type": "execute_result"
    }
   ],
   "source": [
    "# Removing CHAN RONNIE outlier\n",
    "data_dict.pop('CHAN RONNIE', 0)"
   ]
  },
  {
   "cell_type": "code",
   "execution_count": 15,
   "metadata": {},
   "outputs": [],
   "source": [
    "# Saving this new dataset without the outliers\n",
    "my_dataset = data_dict"
   ]
  },
  {
   "cell_type": "markdown",
   "metadata": {},
   "source": [
    "## Processing Features"
   ]
  },
  {
   "cell_type": "markdown",
   "metadata": {},
   "source": [
    "> In this section we are going to create a new feature to add to the feature list. The original features will be put into a list below, and then a new feature will be created."
   ]
  },
  {
   "cell_type": "code",
   "execution_count": 16,
   "metadata": {
    "scrolled": true
   },
   "outputs": [
    {
     "name": "stdout",
     "output_type": "stream",
     "text": [
      "21\n",
      "['salary', 'to_messages', 'deferral_payments', 'total_payments', 'exercised_stock_options', 'bonus', 'restricted_stock', 'shared_receipt_with_poi', 'restricted_stock_deferred', 'total_stock_value', 'expenses', 'loan_advances', 'from_messages', 'other', 'from_this_person_to_poi', 'poi', 'director_fees', 'deferred_income', 'long_term_incentive', 'email_address', 'from_poi_to_this_person']\n"
     ]
    }
   ],
   "source": [
    "# Printing all features\n",
    "print len((my_dataset['SKILLING JEFFREY K'].keys()))\n",
    "print (my_dataset['SKILLING JEFFREY K'].keys())"
   ]
  },
  {
   "cell_type": "markdown",
   "metadata": {},
   "source": [
    "> We can see that there are 21 original features. We are going to add these into a list."
   ]
  },
  {
   "cell_type": "markdown",
   "metadata": {},
   "source": [
    "## Original Features"
   ]
  },
  {
   "cell_type": "code",
   "execution_count": 17,
   "metadata": {},
   "outputs": [],
   "source": [
    "# List of original features\n",
    "features_list = [\n",
    " 'poi',\n",
    " 'bonus',\n",
    " 'deferral_payments',\n",
    " 'deferred_income',\n",
    " 'director_fees',\n",
    " 'email_address',\n",
    " 'exercised_stock_options',\n",
    " 'expenses',\n",
    " 'from_messages',\n",
    " 'from_poi_to_this_person',\n",
    " 'from_this_person_to_poi',\n",
    " 'loan_advances',\n",
    " 'long_term_incentive',\n",
    " 'other',\n",
    " 'restricted_stock',\n",
    " 'restricted_stock_deferred',\n",
    " 'salary',\n",
    " 'shared_receipt_with_poi',\n",
    " 'to_messages',\n",
    " 'total_payments',\n",
    " 'total_stock_value'\n",
    "]"
   ]
  },
  {
   "cell_type": "code",
   "execution_count": 18,
   "metadata": {},
   "outputs": [
    {
     "name": "stdout",
     "output_type": "stream",
     "text": [
      "Number of Data Points :  142.0\n",
      "Number of Poi's :  18.0\n",
      "Number of non-Poi's :  124.0\n",
      "Number of missing Poi values :  0.0\n",
      "Poi percentage : % 13.0\n",
      "Number of Features :  21.0\n",
      "Features which at least %50 of their values are Nan : \n",
      "{'salary': 48.0, 'to_messages': 56.0, 'deferral_payments': 104.0, 'total_payments': 19.0, 'exercised_stock_options': 41.0, 'bonus': 61.0, 'email_address': 31.0, 'restricted_stock_deferred': 126.0, 'deferred_income': 95.0, 'total_stock_value': 17.0, 'expenses': 48.0, 'loan_advances': 139.0, 'from_messages': 56.0, 'other': 51.0, 'from_this_person_to_poi': 56.0, 'director_fees': 127.0, 'long_term_incentive': 77.0, 'shared_receipt_with_poi': 56.0, 'restricted_stock': 34.0, 'from_poi_to_this_person': 56.0}\n"
     ]
    }
   ],
   "source": [
    "dataPoints = float(len(my_dataset))  ## count of data points\n",
    "featureCount = float(len(features_list))  ## count of all features\n",
    "\n",
    "## calculation of poi's and non-poi's\n",
    "pois = 0.\n",
    "nonPois = 0.\n",
    "for i in my_dataset.values():\n",
    "    if i[\"poi\"] == 1:\n",
    "        pois += 1.\n",
    "    else:\n",
    "        nonPois += 1.\n",
    "\n",
    "## data exploration\n",
    "\n",
    "print \"Number of Data Points : \", dataPoints\n",
    "print \"Number of Poi's : \", pois\n",
    "print \"Number of non-Poi's : \", nonPois\n",
    "print \"Number of missing Poi values : \", dataPoints - (pois + nonPois)\n",
    "print \"Poi percentage : %\", round((pois / (nonPois + pois)), 2) * 100  ## poi's percentage for all records\n",
    "print \"Number of Features : \", featureCount\n",
    "\n",
    "nanValues = nanDetectorForValues(my_dataset, features_list, 50)\n",
    "print \"Features which at least %50 of their values are Nan : \"\n",
    "print nanValues"
   ]
  },
  {
   "cell_type": "code",
   "execution_count": 19,
   "metadata": {},
   "outputs": [
    {
     "data": {
      "image/png": "[encoded data removed]",
      "text/plain": [
       "<Figure size 720x360 with 1 Axes>"
      ]
     },
     "metadata": {
      "needs_background": "light"
     },
     "output_type": "display_data"
    }
   ],
   "source": [
    "import matplotlib.pyplot as plt\n",
    "%matplotlib inline\n",
    "plt.figure(figsize=(10,5))\n",
    "plt.bar(list(nanValues.keys()), nanValues.values())\n",
    "plt.xticks(rotation=90)\n",
    "plt.title('NaN Values per Feature')\n",
    "plt.xlabel('Features')\n",
    "plt.ylabel('Number of NaN Values')\n",
    "plt.show()"
   ]
  },
  {
   "cell_type": "markdown",
   "metadata": {},
   "source": [
    "## New Feature"
   ]
  },
  {
   "cell_type": "markdown",
   "metadata": {},
   "source": [
    "> The new feature we will create will be a cross between 'from_poi_to_this_person' and 'from_this_person_to_poi'. The theory is that a PoI would potentially have many more emails to and from other PoIs, whereas non PoIs would probably communicate less to PoIs. \n",
    "\n",
    "> We will create this new feature by adding the 'from_poi_to_this_person' and 'from_this_person_to_poi' together to get the total amount of PoI emails. We will then add 'to_messages' and 'from_messages' together to get the total amount of emails in general. Then dividing PoI emails by Total emails, we can get the percentage of communication between PoIs and Non-PoIs."
   ]
  },
  {
   "cell_type": "code",
   "execution_count": 20,
   "metadata": {},
   "outputs": [],
   "source": [
    "# Creates a new list by adding two lists together\n",
    "def get_total_list(list1, list2):\n",
    "    new_list = []\n",
    "    for i in my_dataset:\n",
    "        if my_dataset[i][list1] == 'NaN' or my_dataset[i][list2] == 'NaN':\n",
    "            new_list.append(0.)\n",
    "        elif my_dataset[i][list1]>=0:\n",
    "            new_list.append(float(my_dataset[i][list1]) + float(my_dataset[i][list2]))\n",
    "    return new_list"
   ]
  },
  {
   "cell_type": "code",
   "execution_count": 21,
   "metadata": {},
   "outputs": [],
   "source": [
    "# Total PoI emails list\n",
    "poi_emails_list = get_total_list('from_this_person_to_poi', 'from_poi_to_this_person')"
   ]
  },
  {
   "cell_type": "code",
   "execution_count": 22,
   "metadata": {},
   "outputs": [],
   "source": [
    "# Total emails list\n",
    "total_emails_list = get_total_list('to_messages', 'from_messages')"
   ]
  },
  {
   "cell_type": "code",
   "execution_count": 23,
   "metadata": {},
   "outputs": [],
   "source": [
    "# Divides one list by another list\n",
    "def fraction_list(list1, list2):\n",
    "    new_list = []\n",
    "    for i in range(0,len(list1)):\n",
    "        if list2[i] == 0.0:\n",
    "            new_list.append(0.0)\n",
    "        else:\n",
    "            new_list.append(float(list1[i])/float(list2[i]))\n",
    "    return new_list"
   ]
  },
  {
   "cell_type": "code",
   "execution_count": 24,
   "metadata": {},
   "outputs": [],
   "source": [
    "# Getting new list by dividing previously created lists\n",
    "fraction_poi_emails = fraction_list(poi_emails_list, total_emails_list)"
   ]
  },
  {
   "cell_type": "code",
   "execution_count": 25,
   "metadata": {},
   "outputs": [],
   "source": [
    "# Adding this new feature to the dataset\n",
    "count = 0\n",
    "for i in my_dataset:\n",
    "    my_dataset[i]['fraction_poi_emails'] = fraction_poi_emails[count]\n",
    "    count += 1"
   ]
  },
  {
   "cell_type": "code",
   "execution_count": 26,
   "metadata": {
    "scrolled": true
   },
   "outputs": [
    {
     "name": "stdout",
     "output_type": "stream",
     "text": [
      "22\n",
      "['to_messages', 'deferral_payments', 'expenses', 'poi', 'deferred_income', 'email_address', 'long_term_incentive', 'restricted_stock_deferred', 'from_messages', 'shared_receipt_with_poi', 'loan_advances', 'fraction_poi_emails', 'other', 'director_fees', 'bonus', 'total_stock_value', 'from_poi_to_this_person', 'from_this_person_to_poi', 'restricted_stock', 'salary', 'total_payments', 'exercised_stock_options']\n"
     ]
    }
   ],
   "source": [
    "# printing all features\n",
    "print len((my_dataset['SKILLING JEFFREY K'].keys()))\n",
    "print (my_dataset['SKILLING JEFFREY K'].keys())"
   ]
  },
  {
   "cell_type": "markdown",
   "metadata": {},
   "source": [
    "> Printing all features again, we can now see that there are 22 features, as 'fraction_poi_emails' has been added to the list. Now we are going to add this new feature into the features_list.\n",
    "\n",
    "> However, the 'email_address' feature is actually unnecessary so we will remove that one from the feature list. There are still 22 features in the dataset, but we will only be using 21 of them for the rest of the analysis. This brings us back to 21 features, essentially replacing 'email_address' with 'fraction_poi_emails'."
   ]
  },
  {
   "cell_type": "code",
   "execution_count": 27,
   "metadata": {},
   "outputs": [],
   "source": [
    "# Adding 'fraction_poi_emails' to features_list, and removing 'email_address'\n",
    "features_list = [\n",
    " 'poi',\n",
    " 'bonus',\n",
    " 'deferral_payments',\n",
    " 'deferred_income',\n",
    " 'director_fees',\n",
    " 'exercised_stock_options',\n",
    " 'expenses',\n",
    " 'from_messages',\n",
    " 'from_poi_to_this_person',\n",
    " 'from_this_person_to_poi',\n",
    " 'loan_advances',\n",
    " 'long_term_incentive',\n",
    " 'other',\n",
    " 'restricted_stock',\n",
    " 'restricted_stock_deferred',\n",
    " 'salary',\n",
    " 'shared_receipt_with_poi',\n",
    " 'to_messages',\n",
    " 'total_payments',\n",
    " 'total_stock_value',\n",
    " 'fraction_poi_emails'\n",
    "]"
   ]
  },
  {
   "cell_type": "markdown",
   "metadata": {},
   "source": [
    "## Selecting Best Classifier"
   ]
  },
  {
   "cell_type": "markdown",
   "metadata": {},
   "source": [
    "## Decision Tree"
   ]
  },
  {
   "cell_type": "markdown",
   "metadata": {},
   "source": [
    "> First, we are going to run decision tree with the original features."
   ]
  },
  {
   "cell_type": "code",
   "execution_count": 28,
   "metadata": {},
   "outputs": [
    {
     "name": "stdout",
     "output_type": "stream",
     "text": [
      "Accuracy: 0.7543859649122807\n",
      "Precision:  0.25\n",
      "Recall:  0.375\n"
     ]
    }
   ],
   "source": [
    "import numpy as np\n",
    "np.random.seed(42)\n",
    "from time import time\n",
    "from sklearn.metrics import precision_score\n",
    "from sklearn.metrics import recall_score\n",
    "from sklearn.metrics import f1_score\n",
    "from sklearn.model_selection import train_test_split\n",
    "\n",
    "# features_list\n",
    "features_list = ['poi','salary', 'from_poi_to_this_person', 'from_this_person_to_poi', 'to_messages', 'deferral_payments', 'total_payments', 'exercised_stock_options', 'bonus', 'restricted_stock', 'shared_receipt_with_poi', 'restricted_stock_deferred', 'total_stock_value', 'expenses', 'loan_advances', 'from_messages', 'other', 'director_fees', 'deferred_income', 'long_term_incentive']\n",
    "\n",
    "data = featureFormat(my_dataset, features_list)\n",
    "labels, features = targetFeatureSplit(data)\n",
    "\n",
    "# split data inton training and testing\n",
    "features_train, features_test, labels_train, labels_test = train_test_split(features, labels, test_size = 0.4, random_state = 42)\n",
    "\n",
    "# choose decision tree\n",
    "from sklearn.tree import DecisionTreeClassifier\n",
    "t0 = time()\n",
    "clf = DecisionTreeClassifier()\n",
    "clf = clf.fit(features_train, labels_train)\n",
    "pred = clf.predict(features_test)\n",
    "\n",
    "from sklearn.metrics import accuracy_score\n",
    "acc = accuracy_score(labels_test, pred)\n",
    "print 'Accuracy: ' + str(acc)\n",
    "print 'Precision: ', precision_score(labels_test, pred)\n",
    "print 'Recall: ', recall_score(labels_test, pred)"
   ]
  },
  {
   "cell_type": "markdown",
   "metadata": {},
   "source": [
    "> Now, we will run decision tree with the added feature."
   ]
  },
  {
   "cell_type": "code",
   "execution_count": 29,
   "metadata": {},
   "outputs": [
    {
     "name": "stdout",
     "output_type": "stream",
     "text": [
      "Accuracy: 0.7719298245614035\n",
      "Precision:  0.3076923076923077\n",
      "Recall:  0.5\n"
     ]
    }
   ],
   "source": [
    "# features_list\n",
    "features_list = ['poi','salary', 'from_poi_to_this_person', 'fraction_poi_emails', 'from_this_person_to_poi', 'to_messages', 'deferral_payments', 'total_payments', 'exercised_stock_options', 'bonus', 'restricted_stock', 'shared_receipt_with_poi', 'restricted_stock_deferred', 'total_stock_value', 'expenses', 'loan_advances', 'from_messages', 'other', 'director_fees', 'deferred_income', 'long_term_incentive']\n",
    "\n",
    "data = featureFormat(my_dataset, features_list)\n",
    "labels, features = targetFeatureSplit(data)\n",
    "\n",
    "# split data inton training and testing\n",
    "features_train, features_test, labels_train, labels_test = train_test_split(features, labels, test_size = 0.4, random_state = 42)\n",
    "\n",
    "# choose decision tree\n",
    "from sklearn.tree import DecisionTreeClassifier\n",
    "t0 = time()\n",
    "clf = DecisionTreeClassifier()\n",
    "clf = clf.fit(features_train, labels_train)\n",
    "pred = clf.predict(features_test)\n",
    "\n",
    "from sklearn.metrics import accuracy_score\n",
    "acc = accuracy_score(labels_test, pred)\n",
    "print 'Accuracy: ' + str(acc)\n",
    "print 'Precision: ', precision_score(labels_test, pred)\n",
    "print 'Recall: ', recall_score(labels_test, pred)"
   ]
  },
  {
   "cell_type": "markdown",
   "metadata": {},
   "source": [
    "> Adding the new feature improved the Accuracy, Precision and Recall scores. We will keep this added feature for now."
   ]
  },
  {
   "cell_type": "markdown",
   "metadata": {},
   "source": [
    "## Selecting Best Features"
   ]
  },
  {
   "cell_type": "markdown",
   "metadata": {},
   "source": [
    "> With our added feature, we improved all 3 of the performance scores, however there may be a better way to do this. We are going  to run Select K Best and choose the most important features from out dataset."
   ]
  },
  {
   "cell_type": "code",
   "execution_count": 30,
   "metadata": {
    "scrolled": false
   },
   "outputs": [
    {
     "name": "stdout",
     "output_type": "stream",
     "text": [
      "[(True, 24.532722463057976, 'exercised_stock_options'),\n",
      " (True, 23.898259813869416, 'total_stock_value'),\n",
      " (True, 20.524645181851792, 'bonus'),\n",
      " (True, 18.003739993113935, 'salary'),\n",
      " (True, 11.353769628808733, 'deferred_income'),\n",
      " (True, 9.772103538408254, 'long_term_incentive'),\n",
      " (True, 9.081517827190943, 'restricted_stock'),\n",
      " (True, 8.671773243105207, 'total_payments'),\n",
      " (True, 8.432635423024681, 'shared_receipt_with_poi'),\n",
      " (True, 7.1253824688830685, 'loan_advances'),\n",
      " (True, 5.954544292197293, 'expenses'),\n",
      " (True, 5.28059791069191, 'fraction_poi_emails'),\n",
      " (True, 5.14221919450697, 'from_poi_to_this_person'),\n",
      " (True, 4.128873404204718, 'other'),\n",
      " (True, 2.3388361146462624, 'from_this_person_to_poi'),\n",
      " (True, 1.9683646966682355, 'director_fees'),\n",
      " (True, 1.5942560277180795, 'to_messages'),\n",
      " (True, 0.2323680582546254, 'deferral_payments'),\n",
      " (True, 0.1753832041587958, 'from_messages'),\n",
      " (True, 0.06643110199560048, 'restricted_stock_deferred')]\n"
     ]
    }
   ],
   "source": [
    "from sklearn.feature_selection import SelectKBest, f_classif\n",
    "from sklearn.model_selection import GridSearchCV\n",
    "from sklearn.pipeline import Pipeline\n",
    "from sklearn.datasets import load_iris\n",
    "from sklearn.linear_model import LogisticRegression\n",
    "\n",
    "def selectFeatures(nParam):\n",
    "    kBest = SelectKBest(k=nParam)\n",
    "    kBest.fit_transform(features, labels)\n",
    "    kResult = zip(kBest.get_support(), kBest.scores_, features_list[1:])\n",
    "    return list(sorted(kResult, key=lambda x: x[1], reverse=True))\n",
    "\n",
    "\n",
    "resultsAll = selectFeatures(\"all\")\n",
    "\n",
    "import pprint\n",
    "\n",
    "pprint.pprint(resultsAll)"
   ]
  },
  {
   "cell_type": "markdown",
   "metadata": {},
   "source": [
    "> This is showing us the 'value' of each feature in the dataset."
   ]
  },
  {
   "cell_type": "code",
   "execution_count": 31,
   "metadata": {},
   "outputs": [
    {
     "data": {
      "image/png": "[encoded data removed]",
      "text/plain": [
       "<Figure size 432x288 with 1 Axes>"
      ]
     },
     "metadata": {
      "needs_background": "light"
     },
     "output_type": "display_data"
    }
   ],
   "source": [
    "plotBar(resultsAll)"
   ]
  },
  {
   "cell_type": "markdown",
   "metadata": {},
   "source": [
    "> This plot is a visualization of the scores of each feature by SelectKBest. We can see that the 4 most 'valuable' features score quite highly. Exercised Stock Options, Total Stock Value, Bonus, and Salary all have the most value. These 4 features hold the most weight and should be included in the features list. From the list above, we can also see that Deferred Income is above a 10 score as well. We will inlude the features above a 10 score, as these should all provide more benefit than harm. The more features we have, the worse the algorithm could perform. So it is about managing the amount of features. Choosing the best ones, and cutting off ones that may only make the algorithm worse. We will use the 4 most obvious features, and also the fifth best feature as it is still above a 10 score."
   ]
  },
  {
   "cell_type": "markdown",
   "metadata": {},
   "source": [
    "> Testing with the 4 significantly best features: "
   ]
  },
  {
   "cell_type": "code",
   "execution_count": 38,
   "metadata": {},
   "outputs": [
    {
     "name": "stdout",
     "output_type": "stream",
     "text": [
      "Accuracy: 0.7692307692307693\n",
      "Precision:  0.25\n",
      "Recall:  0.25\n"
     ]
    }
   ],
   "source": [
    "# features_list\n",
    "features_list = ['poi', 'exercised_stock_options', 'total_stock_value', 'bonus', 'salary']\n",
    "data = featureFormat(my_dataset, features_list)\n",
    "labels, features = targetFeatureSplit(data)\n",
    "\n",
    "# split data inton training and testing\n",
    "features_train, features_test, labels_train, labels_test = train_test_split(features, labels, test_size = 0.4, random_state = 42)\n",
    "\n",
    "# choose decision tree\n",
    "from sklearn.tree import DecisionTreeClassifier\n",
    "t0 = time()\n",
    "clf = DecisionTreeClassifier()\n",
    "clf = clf.fit(features_train, labels_train)\n",
    "pred = clf.predict(features_test)\n",
    "\n",
    "acc = accuracy_score(labels_test, pred)\n",
    "print 'Accuracy: ' + str(acc)\n",
    "print 'Precision: ', precision_score(labels_test, pred)\n",
    "print 'Recall: ', recall_score(labels_test, pred)"
   ]
  },
  {
   "cell_type": "markdown",
   "metadata": {},
   "source": [
    "> Testing with 6 best features:"
   ]
  },
  {
   "cell_type": "code",
   "execution_count": 43,
   "metadata": {},
   "outputs": [
    {
     "name": "stdout",
     "output_type": "stream",
     "text": [
      "Accuracy: 0.7321428571428571\n",
      "Precision:  0.25\n",
      "Recall:  0.5714285714285714\n"
     ]
    }
   ],
   "source": [
    "# features_list\n",
    "features_list = ['poi', 'exercised_stock_options', 'total_stock_value', 'bonus', 'salary', 'deferred_income','long_term_incentive']\n",
    "data = featureFormat(my_dataset, features_list)\n",
    "labels, features = targetFeatureSplit(data)\n",
    "\n",
    "# split data inton training and testing\n",
    "features_train, features_test, labels_train, labels_test = train_test_split(features, labels, test_size = 0.4, random_state = 42)\n",
    "\n",
    "# choose decision tree\n",
    "from sklearn.tree import DecisionTreeClassifier\n",
    "t0 = time()\n",
    "clf = DecisionTreeClassifier()\n",
    "clf = clf.fit(features_train, labels_train)\n",
    "pred = clf.predict(features_test)\n",
    "\n",
    "acc = accuracy_score(labels_test, pred)\n",
    "print 'Accuracy: ' + str(acc)\n",
    "print 'Precision: ', precision_score(labels_test, pred)\n",
    "print 'Recall: ', recall_score(labels_test, pred)"
   ]
  },
  {
   "cell_type": "markdown",
   "metadata": {},
   "source": [
    "> Testing with 5 best features:"
   ]
  },
  {
   "cell_type": "code",
   "execution_count": 45,
   "metadata": {},
   "outputs": [
    {
     "name": "stdout",
     "output_type": "stream",
     "text": [
      "Accuracy: 0.75\n",
      "Precision:  0.29411764705882354\n",
      "Recall:  0.7142857142857143\n"
     ]
    }
   ],
   "source": [
    "# features_list\n",
    "features_list = ['poi', 'exercised_stock_options', 'total_stock_value', 'bonus', 'salary', 'deferred_income']\n",
    "data = featureFormat(my_dataset, features_list)\n",
    "labels, features = targetFeatureSplit(data)\n",
    "\n",
    "# split data inton training and testing\n",
    "features_train, features_test, labels_train, labels_test = train_test_split(features, labels, test_size = 0.4, random_state = 42)\n",
    "\n",
    "# choose decision tree\n",
    "from sklearn.tree import DecisionTreeClassifier\n",
    "t0 = time()\n",
    "clf = DecisionTreeClassifier()\n",
    "clf = clf.fit(features_train, labels_train)\n",
    "pred = clf.predict(features_test)\n",
    "\n",
    "acc = accuracy_score(labels_test, pred)\n",
    "print 'Accuracy: ' + str(acc)\n",
    "print 'Precision: ', precision_score(labels_test, pred)\n",
    "print 'Recall: ', recall_score(labels_test, pred)"
   ]
  },
  {
   "cell_type": "markdown",
   "metadata": {},
   "source": [
    "> Running decision tree with only the best selected features has improved the scores. Choosing the 5 best features helps more overall than just choosing the 4 most obvious features. We will continue to use the 5 best features. Adding more than this seems to only make the scores worse. It takes away more accuracy than it adds. The 5 best features seems to be a very good middle point in accuracy, precision, and recall.\n",
    "\n",
    "> 5 best features overall has the highest Precision score, and by a significant margin, the highest Recall score. Accuracy is slightly lower than just using the 4 best features, but the massive jump in Recall score makes using the 5 best features the best choice."
   ]
  },
  {
   "cell_type": "code",
   "execution_count": 46,
   "metadata": {},
   "outputs": [],
   "source": [
    "nFeatures = 5"
   ]
  },
  {
   "cell_type": "code",
   "execution_count": 47,
   "metadata": {},
   "outputs": [
    {
     "name": "stdout",
     "output_type": "stream",
     "text": [
      "|  exercised_stock_options  |  23.404392737221695  |\n",
      "|  total_stock_value  |  22.76093102026795  |\n",
      "|  bonus  |  19.455725604701552  |\n",
      "|  salary  |  16.860766603184956  |\n",
      "|  deferred_income  |  10.806369143516056  |\n"
     ]
    }
   ],
   "source": [
    "for trueFalse, score, feature in selectFeatures(nFeatures):\n",
    "    if not trueFalse:\n",
    "        del features_list[findIndex(feature,features_list)]\n",
    "    else:\n",
    "        print \"| \", feature, \" | \", score, \" |\""
   ]
  },
  {
   "cell_type": "markdown",
   "metadata": {},
   "source": [
    "> Showing the 5 features we will be using, along with their individual scores"
   ]
  },
  {
   "cell_type": "markdown",
   "metadata": {},
   "source": [
    "## Selecting Best Classifier"
   ]
  },
  {
   "cell_type": "code",
   "execution_count": 99,
   "metadata": {},
   "outputs": [],
   "source": [
    "from sklearn.cluster import KMeans\n",
    "from sklearn.model_selection import train_test_split, StratifiedShuffleSplit\n",
    "from sklearn.ensemble import AdaBoostClassifier, RandomForestClassifier\n",
    "from sklearn.feature_selection import SelectKBest, chi2\n",
    "from sklearn.model_selection import GridSearchCV\n",
    "from sklearn.linear_model import LogisticRegression\n",
    "from sklearn.naive_bayes import GaussianNB\n",
    "from sklearn.neighbors import KNeighborsClassifier\n",
    "from sklearn.preprocessing import MinMaxScaler, RobustScaler\n",
    "from sklearn.svm import SVC\n",
    "from sklearn.tree import DecisionTreeClassifier"
   ]
  },
  {
   "cell_type": "code",
   "execution_count": 100,
   "metadata": {},
   "outputs": [],
   "source": [
    "randomState = 42"
   ]
  },
  {
   "cell_type": "markdown",
   "metadata": {},
   "source": [
    "> This next function is to add all the methods we will be testing into a dictionary to test them all at once"
   ]
  },
  {
   "cell_type": "code",
   "execution_count": 101,
   "metadata": {},
   "outputs": [],
   "source": [
    "## returns stored classifiers and their parameters\n",
    "def createClassifiersAndParams():\n",
    "    rec = {}  ## store all in this list\n",
    "\n",
    "    def addToDict(name, clf, params):  ## helper for adding to the list\n",
    "        ## name : name of the classifier\n",
    "        ## clf : classifier object\n",
    "        ## params : parameters object\n",
    "        rec[name] = {\"clf\": clf,\n",
    "                     \"params\": params}\n",
    "\n",
    "    ##naive bayes\n",
    "    addToDict(\"NaiveBayes\", GaussianNB(), {})\n",
    "\n",
    "    ##support vector machines\n",
    "    addToDict(\"SVM\", SVC(), {'kernel': ['poly', 'rbf', 'sigmoid'],\n",
    "                             'cache_size': [7000],\n",
    "                             'tol': [0.0001, 0.001, 0.005, 0.05],\n",
    "                             'decision_function_shape': ['ovo', 'ovr'],\n",
    "                             'random_state': [randomState],\n",
    "                             'verbose' : [False],\n",
    "                             'C': [100, 1000, 10000]\n",
    "                             })\n",
    "\n",
    "    ##DecisionTree,\n",
    "    addToDict(\"DecisionTree\", DecisionTreeClassifier(), {'criterion': ['gini', 'entropy'],\n",
    "                                                         'splitter': ['best', 'random'],\n",
    "                                                         'min_samples_split': [2, 10, 20],\n",
    "                                                         'max_depth': [None, 2, 4, 8, 16],\n",
    "                                                         'min_samples_leaf': [1, 3, 5, 7, 9],\n",
    "                                                         'max_leaf_nodes': [None, 6, 12, 24],\n",
    "                                                         'random_state': [randomState]})\n",
    "    #\n",
    "    ##AdaBoost\n",
    "    addToDict(\"AdaBoost\", AdaBoostClassifier(), {'n_estimators': [25, 50, 100],\n",
    "                                                 'algorithm': ['SAMME', 'SAMME.R'],\n",
    "                                                 'learning_rate': [.2, .5, 1, 1.4, 2.],\n",
    "                                                 'random_state': [randomState]})\n",
    "    ##Random Forest\n",
    "    addToDict(\"RandomForest\", RandomForestClassifier(), {'n_estimators': [5, 10, 25],\n",
    "                                                         'criterion': ['gini', 'entropy'],\n",
    "                                                         'max_features': ['auto', 'sqrt', 'log2', 3, nFeatures],\n",
    "                                                         'min_samples_split': [2, 10, 20],\n",
    "                                                         'class_weight': [\"balanced_subsample\", \"balanced\"],\n",
    "                                                         'verbose': [False],\n",
    "                                                         # 'max_depth': [None, 2],\n",
    "                                                         # 'min_samples_leaf': [1, 3],\n",
    "                                                         # 'max_leaf_nodes': [None, 2],\n",
    "                                                         'random_state': [randomState]})\n",
    "\n",
    "    ##KNeighbors\n",
    "    addToDict(\"KNeighbors\", KNeighborsClassifier(), {'n_neighbors': [2, 4, nFeatures],\n",
    "                                                     'weights': ['uniform', 'distance'],\n",
    "                                                     'algorithm': ['auto', 'ball_tree', 'kd_tree', 'brute'],\n",
    "                                                     'leaf_size': [10, 25, 50],\n",
    "                                                     'p': [2, 3, 4]})\n",
    "\n",
    "    ##KMeans\n",
    "    addToDict(\"KMeans\", KMeans(), {'n_clusters': [4, 8, 16],\n",
    "                                   'init': ['k-means++', 'random'],\n",
    "                                   'max_iter': [50, 150, 300],\n",
    "                                   'tol': [0.0001, 0.0005, 0.001, 0.005],\n",
    "                                   'precompute_distances': [True, False],\n",
    "                                   'random_state': [randomState],\n",
    "                                   'verbose': [False],\n",
    "                                   'copy_x': [True, False],\n",
    "                                   'algorithm': ['full', 'elkan']})\n",
    "\n",
    "    ##LogisticRegression\n",
    "    addToDict(\"LogisticRegression\", LogisticRegression(), {'penalty': ['l1', 'l2'],\n",
    "                                                           'tol': [0.0001, 0.0005, 0.001, 0.005],\n",
    "                                                           'C': [1, 10, 100, 1000, 10000, 100000, 1000000],\n",
    "                                                           'fit_intercept': [True, False],\n",
    "                                                           'solver': ['liblinear'],\n",
    "                                                           'class_weight': [None, 'balanced'],\n",
    "                                                           'verbose': [False],\n",
    "                                                           'random_state': [randomState]\n",
    "                                                           })\n",
    "\n",
    "    return rec"
   ]
  },
  {
   "cell_type": "markdown",
   "metadata": {},
   "source": [
    "> Training each model"
   ]
  },
  {
   "cell_type": "code",
   "execution_count": 102,
   "metadata": {},
   "outputs": [],
   "source": [
    "def train(clf, params, features_train, labels_train):  ## trainer function\n",
    "    # train\n",
    "    t0 = time()  ## timer for calculating trainin time\n",
    "    clft = GridSearchCV(clf, params)  ## grid search with parameters\n",
    "    clft = clft.fit(features_train, labels_train)  ## training the searcher for best fit\n",
    "\n",
    "    # print \"training time:\", round(time() - t0, 3), \"s\"  ##print the training time\n",
    "    return clft, (time() - t0)  ## return best parameters"
   ]
  },
  {
   "cell_type": "markdown",
   "metadata": {},
   "source": [
    "> Predicting with each model"
   ]
  },
  {
   "cell_type": "code",
   "execution_count": 103,
   "metadata": {},
   "outputs": [],
   "source": [
    "def predict(clf, features_test):  ## predictor function\n",
    "    # predict\n",
    "    t0 = time()  ##timer for calculating the prediction time\n",
    "    pred = clf.predict(features_test)  ## predict the result for test features\n",
    "    # print \"predicting time:\", round(time() - t0, 3), \"s\"  ## print the prediction time\n",
    "    return pred, (time() - t0)  ## return all predictions"
   ]
  },
  {
   "cell_type": "markdown",
   "metadata": {},
   "source": [
    "> Scoring each model by using the function from the tester.py script"
   ]
  },
  {
   "cell_type": "code",
   "execution_count": 104,
   "metadata": {},
   "outputs": [],
   "source": [
    "def scores(pred, labels_test):  ## scoring function\n",
    "    ## inspired from tester script\n",
    "\n",
    "    true_negatives = 0\n",
    "    false_negatives = 0\n",
    "    true_positives = 0\n",
    "    false_positives = 0\n",
    "    total_predictions = 0\n",
    "    accuracy = 0.\n",
    "    precision = 0.\n",
    "    recall = 0.\n",
    "    f1 = 0.\n",
    "    f2 = 0.\n",
    "\n",
    "    ## get the prediction details\n",
    "    for prediction, truth in zip(pred, labels_test):\n",
    "        if prediction == 0 and truth == 0:\n",
    "            true_negatives += 1\n",
    "        elif prediction == 0 and truth == 1:\n",
    "            false_negatives += 1\n",
    "        elif prediction == 1 and truth == 0:\n",
    "            false_positives += 1\n",
    "        elif prediction == 1 and truth == 1:\n",
    "            true_positives += 1\n",
    "        else:\n",
    "            print \"Warning: Found a predicted label not == 0 or 1.\"\n",
    "            print \"All predictions should take value 0 or 1.\"\n",
    "            print \"Evaluating performance for processed predictions:\"\n",
    "            break\n",
    "\n",
    "    try:\n",
    "        ##calculate each metric\n",
    "        total_predictions = true_negatives + false_negatives + false_positives + true_positives\n",
    "        accuracy = 1.0 * (true_positives + true_negatives) / total_predictions\n",
    "        precision = 1.0 * true_positives / (true_positives + false_positives)\n",
    "        recall = 1.0 * true_positives / (true_positives + false_negatives)\n",
    "        f1 = 2.0 * true_positives / (2 * true_positives + false_positives + false_negatives)\n",
    "        f2 = (1 + 2.0 * 2.0) * precision * recall / (4 * precision + recall)\n",
    "\n",
    "    except:\n",
    "        print \"Got a divide by zero\"\n",
    "\n",
    "\n",
    "    return accuracy, precision, recall, f1, f2  ## return all scores"
   ]
  },
  {
   "cell_type": "code",
   "execution_count": 105,
   "metadata": {},
   "outputs": [],
   "source": [
    "## function for doing everything in a single area\n",
    "## gets classifier, their parameters, train and test features\n",
    "## returns the best-fit classifier, its parameters and the scores\n",
    "def doTheMath(clf, params, features_train, labels_train, features_test, labels_test):\n",
    "    clft, trainTime = train(clf, params, features_train, labels_train)  ## call train function with given params\n",
    "    preds, predictTime = predict(clft, features_test)  ## make predictions with given classifier\n",
    "\n",
    "    accuracy, precision, recall, f1, f2 = scores(preds, labels_test)  ## calculate the scores\n",
    "\n",
    "    ## return best-fit classifier, and its parameters , also the score values\n",
    "    return clft.best_estimator_, clft.best_params_, accuracy, precision, recall, f1, f2, trainTime, predictTime\n"
   ]
  },
  {
   "cell_type": "code",
   "execution_count": 106,
   "metadata": {},
   "outputs": [],
   "source": [
    "allClassifiers = createClassifiersAndParams()  ## create the list of classifiers"
   ]
  },
  {
   "cell_type": "code",
   "execution_count": 107,
   "metadata": {},
   "outputs": [],
   "source": [
    "## format the data with only selected features\n",
    "data = featureFormat(my_dataset, features_list, sort_keys=True)\n",
    "labels, features = targetFeatureSplit(data)"
   ]
  },
  {
   "cell_type": "code",
   "execution_count": 108,
   "metadata": {},
   "outputs": [],
   "source": [
    "features_train, features_test, labels_train, labels_test = \\\n",
    "    train_test_split(features, labels, test_size=0.3, random_state=42)"
   ]
  },
  {
   "cell_type": "code",
   "execution_count": 109,
   "metadata": {},
   "outputs": [
    {
     "name": "stdout",
     "output_type": "stream",
     "text": [
      "Train set length: 96\n",
      "Test set length: 42\n"
     ]
    }
   ],
   "source": [
    "print \"Train set length:\", len(features_train)\n",
    "print \"Test set length:\", len(features_test)"
   ]
  },
  {
   "cell_type": "code",
   "execution_count": 110,
   "metadata": {},
   "outputs": [],
   "source": [
    "scaler = MinMaxScaler()\n",
    "features_train = scaler.fit_transform(features_train)\n",
    "features_test = scaler.fit_transform(features_test)"
   ]
  },
  {
   "cell_type": "code",
   "execution_count": 111,
   "metadata": {
    "scrolled": false
   },
   "outputs": [
    {
     "name": "stderr",
     "output_type": "stream",
     "text": [
      "C:\\Users\\TJ\\Anaconda2\\lib\\site-packages\\sklearn\\model_selection\\_search.py:841: DeprecationWarning: The default of the `iid` parameter will change from True to False in version 0.22 and will be removed in 0.24. This will change numeric results when test-set sizes are unequal.\n",
      "  DeprecationWarning)\n"
     ]
    },
    {
     "name": "stdout",
     "output_type": "stream",
     "text": [
      "|  SVM  |  0.0438  |  0.833  |  1.0  |  0.125  |  0.222  |  0.152  |  0.528  |  0.0  |\n"
     ]
    },
    {
     "name": "stderr",
     "output_type": "stream",
     "text": [
      "C:\\Users\\TJ\\Anaconda2\\lib\\site-packages\\sklearn\\model_selection\\_search.py:841: DeprecationWarning: The default of the `iid` parameter will change from True to False in version 0.22 and will be removed in 0.24. This will change numeric results when test-set sizes are unequal.\n",
      "  DeprecationWarning)\n"
     ]
    },
    {
     "name": "stdout",
     "output_type": "stream",
     "text": [
      "|  RandomForest  |  0.0059  |  0.857  |  1.0  |  0.25  |  0.4  |  0.294  |  14.46  |  0.001  |\n",
      "Warning: Found a predicted label not == 0 or 1.\n",
      "All predictions should take value 0 or 1.\n",
      "Evaluating performance for processed predictions:\n",
      "Got a divide by zero\n",
      "|  KMeans  |  0.0  |  0.0  |  0.0  |  0.0  |  0.0  |  0.0  |  34.523  |  0.0  |\n",
      "|  NaiveBayes  |  9.6153  |  0.833  |  0.6  |  0.375  |  0.462  |  0.405  |  0.009  |  0.0  |\n"
     ]
    },
    {
     "name": "stderr",
     "output_type": "stream",
     "text": [
      "C:\\Users\\TJ\\Anaconda2\\lib\\site-packages\\sklearn\\model_selection\\_search.py:841: DeprecationWarning: The default of the `iid` parameter will change from True to False in version 0.22 and will be removed in 0.24. This will change numeric results when test-set sizes are unequal.\n",
      "  DeprecationWarning)\n",
      "C:\\Users\\TJ\\Anaconda2\\lib\\site-packages\\sklearn\\model_selection\\_search.py:841: DeprecationWarning: The default of the `iid` parameter will change from True to False in version 0.22 and will be removed in 0.24. This will change numeric results when test-set sizes are unequal.\n",
      "  DeprecationWarning)\n"
     ]
    },
    {
     "name": "stdout",
     "output_type": "stream",
     "text": [
      "|  DecisionTree  |  0.0037  |  0.833  |  1.0  |  0.125  |  0.222  |  0.152  |  6.195  |  0.001  |\n"
     ]
    },
    {
     "name": "stderr",
     "output_type": "stream",
     "text": [
      "C:\\Users\\TJ\\Anaconda2\\lib\\site-packages\\sklearn\\model_selection\\_search.py:841: DeprecationWarning: The default of the `iid` parameter will change from True to False in version 0.22 and will be removed in 0.24. This will change numeric results when test-set sizes are unequal.\n",
      "  DeprecationWarning)\n"
     ]
    },
    {
     "name": "stdout",
     "output_type": "stream",
     "text": [
      "|  LogisticRegression  |  0.0358  |  0.833  |  0.667  |  0.25  |  0.364  |  0.286  |  1.411  |  0.0  |\n"
     ]
    },
    {
     "name": "stderr",
     "output_type": "stream",
     "text": [
      "C:\\Users\\TJ\\Anaconda2\\lib\\site-packages\\sklearn\\model_selection\\_search.py:841: DeprecationWarning: The default of the `iid` parameter will change from True to False in version 0.22 and will be removed in 0.24. This will change numeric results when test-set sizes are unequal.\n",
      "  DeprecationWarning)\n"
     ]
    },
    {
     "name": "stdout",
     "output_type": "stream",
     "text": [
      "|  AdaBoost  |  0.0095  |  0.857  |  1.0  |  0.25  |  0.4  |  0.294  |  9.026  |  0.002  |\n",
      "Got a divide by zero\n",
      "|  KNeighbors  |  0.0  |  0.81  |  0.0  |  0.0  |  0.0  |  0.0  |  3.014  |  0.001  |\n"
     ]
    },
    {
     "name": "stderr",
     "output_type": "stream",
     "text": [
      "C:\\Users\\TJ\\Anaconda2\\lib\\site-packages\\sklearn\\model_selection\\_search.py:841: DeprecationWarning: The default of the `iid` parameter will change from True to False in version 0.22 and will be removed in 0.24. This will change numeric results when test-set sizes are unequal.\n",
      "  DeprecationWarning)\n"
     ]
    }
   ],
   "source": [
    "for x in allClassifiers:  ##loop through all classifiers\n",
    "\n",
    "    clft = allClassifiers[x][\"clf\"]  ##get the classifier\n",
    "    params = allClassifiers[x][\"params\"]  ##get the parameters\n",
    "\n",
    "    ## call the function for all processes\n",
    "    estimator, params, accuracy, precision, recall, f1, f2, trainTime, predictTime = doTheMath(clft,\n",
    "                                                                                               params,\n",
    "                                                                                               features_train,\n",
    "                                                                                               labels_train,\n",
    "                                                                                               features_test,\n",
    "                                                                                               labels_test)\n",
    "\n",
    "    ## record results in dictionary\n",
    "    allClassifiers[x][\"clf\"] = estimator\n",
    "    allClassifiers[x][\"params\"] = params\n",
    "    allClassifiers[x][\"accuracy\"] = accuracy\n",
    "    allClassifiers[x][\"precision\"] = precision\n",
    "    allClassifiers[x][\"recall\"] = recall\n",
    "    allClassifiers[x][\"f1\"] = f1\n",
    "    allClassifiers[x][\"f2\"] = f2\n",
    "    allClassifiers[x][\"trainTime\"] = trainTime\n",
    "    allClassifiers[x][\"predictTime\"] = predictTime\n",
    "\n",
    "\n",
    "    score = (allClassifiers[x][\"f1\"] * allClassifiers[x][\"precision\"] * \\\n",
    "             allClassifiers[x][\"recall\"] * allClassifiers[x][\"accuracy\"]) / \\\n",
    "            (allClassifiers[x][\"trainTime\"] + allClassifiers[x][\"predictTime\"])\n",
    "\n",
    "    ## store new score in dictionary\n",
    "    allClassifiers[x][\"my_score\"] = score\n",
    "\n",
    "\n",
    "    print \"| \", x, \" | \", round(score, 4), \" | \", round(allClassifiers[x][\"accuracy\"], 3), \" | \", round(\n",
    "        allClassifiers[x][\"precision\"], 3), \\\n",
    "        \" | \", round(allClassifiers[x][\"recall\"], 3), \" | \", round(allClassifiers[x][\"f1\"], 3), \" | \", round(\n",
    "        allClassifiers[x][\"f2\"], 3), \" | \", \\\n",
    "        round(allClassifiers[x][\"trainTime\"], 3), \" | \", round(allClassifiers[x][\"predictTime\"], 3), \" |\""
   ]
  },
  {
   "cell_type": "markdown",
   "metadata": {},
   "source": [
    "> These scores are listed this way:\n",
    "\n",
    ">* | Model | Params | Accuracy | Precision | Recall | F1 | F2 | Training Time | Predicting Time |"
   ]
  },
  {
   "cell_type": "markdown",
   "metadata": {},
   "source": [
    "> This next script is to get the parameters that were tested for each method. These are all the most optimal features by GridSearchCV."
   ]
  },
  {
   "cell_type": "code",
   "execution_count": 112,
   "metadata": {
    "scrolled": false
   },
   "outputs": [
    {
     "name": "stdout",
     "output_type": "stream",
     "text": [
      "SVC(C=100, cache_size=7000, class_weight=None, coef0=0.0,\n",
      "  decision_function_shape='ovo', degree=3, gamma='auto_deprecated',\n",
      "  kernel='poly', max_iter=-1, probability=False, random_state=42,\n",
      "  shrinking=True, tol=0.0001, verbose=False)\n",
      "RandomForestClassifier(bootstrap=True, class_weight='balanced_subsample',\n",
      "            criterion='entropy', max_depth=None, max_features='auto',\n",
      "            max_leaf_nodes=None, min_impurity_decrease=0.0,\n",
      "            min_impurity_split=None, min_samples_leaf=1,\n",
      "            min_samples_split=2, min_weight_fraction_leaf=0.0,\n",
      "            n_estimators=5, n_jobs=None, oob_score=False, random_state=42,\n",
      "            verbose=False, warm_start=False)\n",
      "KMeans(algorithm='full', copy_x=True, init='k-means++', max_iter=50,\n",
      "    n_clusters=16, n_init=10, n_jobs=None, precompute_distances=True,\n",
      "    random_state=42, tol=0.0001, verbose=False)\n",
      "GaussianNB(priors=None, var_smoothing=1e-09)\n",
      "DecisionTreeClassifier(class_weight=None, criterion='gini', max_depth=None,\n",
      "            max_features=None, max_leaf_nodes=None,\n",
      "            min_impurity_decrease=0.0, min_impurity_split=None,\n",
      "            min_samples_leaf=3, min_samples_split=10,\n",
      "            min_weight_fraction_leaf=0.0, presort=False, random_state=42,\n",
      "            splitter='random')\n",
      "LogisticRegression(C=1, class_weight=None, dual=False, fit_intercept=True,\n",
      "          intercept_scaling=1, max_iter=100, multi_class='warn',\n",
      "          n_jobs=None, penalty='l1', random_state=42, solver='liblinear',\n",
      "          tol=0.0001, verbose=False, warm_start=False)\n",
      "AdaBoostClassifier(algorithm='SAMME.R', base_estimator=None, learning_rate=1,\n",
      "          n_estimators=25, random_state=42)\n",
      "KNeighborsClassifier(algorithm='auto', leaf_size=10, metric='minkowski',\n",
      "           metric_params=None, n_jobs=None, n_neighbors=5, p=2,\n",
      "           weights='uniform')\n"
     ]
    }
   ],
   "source": [
    "for i in allClassifiers:\n",
    "    if i in ['NaiveBayes', 'SVM', 'AdaBoost', 'RandomForest', 'KMeans', 'DecisionTree', 'LogisticRegression', 'KNeighbors']:\n",
    "        print allClassifiers[i][\"clf\"]"
   ]
  },
  {
   "cell_type": "markdown",
   "metadata": {},
   "source": [
    "## RandomForest"
   ]
  },
  {
   "cell_type": "code",
   "execution_count": 113,
   "metadata": {},
   "outputs": [
    {
     "name": "stdout",
     "output_type": "stream",
     "text": [
      "Accuracy: 0.8571428571428571\n",
      "Precision:  1.0\n",
      "Recall:  0.25\n",
      "F1 score: 0.4\n"
     ]
    }
   ],
   "source": [
    "clf = RandomForestClassifier(bootstrap=True, class_weight='balanced_subsample',\n",
    "            criterion='entropy', max_depth=None, max_features='auto',\n",
    "            max_leaf_nodes=None, min_impurity_decrease=0.0,\n",
    "            min_impurity_split=None, min_samples_leaf=1,\n",
    "            min_samples_split=2, min_weight_fraction_leaf=0.0,\n",
    "            n_estimators=5, n_jobs=None, oob_score=False, random_state=42,\n",
    "            verbose=False, warm_start=False)\n",
    "\n",
    "clf = clf.fit(features_train, labels_train)\n",
    "pred = clf.predict(features_test)\n",
    "\n",
    "acc = accuracy_score(labels_test, pred)\n",
    "print 'Accuracy: ' + str(acc)\n",
    "print 'Precision: ', precision_score(labels_test, pred)\n",
    "print 'Recall: ', recall_score(labels_test, pred)\n",
    "print 'F1 score:', f1_score(labels_test, pred)"
   ]
  },
  {
   "cell_type": "markdown",
   "metadata": {},
   "source": [
    "## KMeans"
   ]
  },
  {
   "cell_type": "code",
   "execution_count": 114,
   "metadata": {},
   "outputs": [
    {
     "name": "stdout",
     "output_type": "stream",
     "text": [
      "Accuracy: 0.09523809523809523\n"
     ]
    }
   ],
   "source": [
    "clf = KMeans(algorithm='full', copy_x=True, init='k-means++', max_iter=50,\n",
    "    n_clusters=16, n_init=10, n_jobs=None, precompute_distances=True,\n",
    "    random_state=42, tol=0.0001, verbose=False)\n",
    "\n",
    "clf = clf.fit(features_train, labels_train)\n",
    "pred = clf.predict(features_test)\n",
    "\n",
    "acc = accuracy_score(labels_test, pred)\n",
    "print 'Accuracy: ' + str(acc)\n",
    "# print 'Precision: ', precision_score(labels_test, pred)\n",
    "# print 'Recall: ', recall_score(labels_test, pred)\n",
    "# print 'F1 score:', f1_score(labels_test, pred)"
   ]
  },
  {
   "cell_type": "markdown",
   "metadata": {},
   "source": [
    "> KMeans can not work as it gets a divide by zero error. This is just to show the accuracy it gets, which is very low anyway."
   ]
  },
  {
   "cell_type": "markdown",
   "metadata": {},
   "source": [
    "## DecisionTree"
   ]
  },
  {
   "cell_type": "code",
   "execution_count": 115,
   "metadata": {},
   "outputs": [
    {
     "name": "stdout",
     "output_type": "stream",
     "text": [
      "Accuracy: 0.8333333333333334\n",
      "Precision:  1.0\n",
      "Recall:  0.125\n",
      "F1 score: 0.2222222222222222\n"
     ]
    }
   ],
   "source": [
    "clf = DecisionTreeClassifier(class_weight=None, criterion='gini', max_depth=None,\n",
    "            max_features=None, max_leaf_nodes=None,\n",
    "            min_impurity_decrease=0.0, min_impurity_split=None,\n",
    "            min_samples_leaf=3, min_samples_split=10,\n",
    "            min_weight_fraction_leaf=0.0, presort=False, random_state=42,\n",
    "            splitter='random')\n",
    "\n",
    "clf = clf.fit(features_train, labels_train)\n",
    "pred = clf.predict(features_test)\n",
    "\n",
    "acc = accuracy_score(labels_test, pred)\n",
    "print 'Accuracy: ' + str(acc)\n",
    "print 'Precision: ', precision_score(labels_test, pred)\n",
    "print 'Recall: ', recall_score(labels_test, pred)\n",
    "print 'F1 score:', f1_score(labels_test, pred)"
   ]
  },
  {
   "cell_type": "markdown",
   "metadata": {},
   "source": [
    "## LogisticRegression"
   ]
  },
  {
   "cell_type": "code",
   "execution_count": 116,
   "metadata": {},
   "outputs": [
    {
     "name": "stdout",
     "output_type": "stream",
     "text": [
      "Accuracy: 0.8333333333333334\n",
      "Precision:  0.6666666666666666\n",
      "Recall:  0.25\n",
      "F1 score: 0.36363636363636365\n"
     ]
    }
   ],
   "source": [
    "clf = LogisticRegression(C=1, class_weight=None, dual=False, fit_intercept=True,\n",
    "          intercept_scaling=1, max_iter=100, multi_class='warn',\n",
    "          n_jobs=None, penalty='l1', random_state=42, solver='liblinear',\n",
    "          tol=0.0001, verbose=False, warm_start=False)\n",
    "\n",
    "clf = clf.fit(features_train, labels_train)\n",
    "pred = clf.predict(features_test)\n",
    "\n",
    "acc = accuracy_score(labels_test, pred)\n",
    "print 'Accuracy: ' + str(acc)\n",
    "print 'Precision: ', precision_score(labels_test, pred)\n",
    "print 'Recall: ', recall_score(labels_test, pred)\n",
    "print 'F1 score:', f1_score(labels_test, pred)"
   ]
  },
  {
   "cell_type": "markdown",
   "metadata": {},
   "source": [
    "## KNeighbors"
   ]
  },
  {
   "cell_type": "code",
   "execution_count": 117,
   "metadata": {},
   "outputs": [
    {
     "name": "stdout",
     "output_type": "stream",
     "text": [
      "Accuracy: 0.8095238095238095\n",
      "Precision:  0.0\n",
      "Recall:  0.0\n",
      "F1 score: 0.0\n"
     ]
    }
   ],
   "source": [
    "clf = KNeighborsClassifier(algorithm='auto', leaf_size=10, metric='minkowski',\n",
    "           metric_params=None, n_jobs=None, n_neighbors=5, p=2,\n",
    "           weights='uniform')\n",
    "\n",
    "clf = clf.fit(features_train, labels_train)\n",
    "pred = clf.predict(features_test)\n",
    "\n",
    "acc = accuracy_score(labels_test, pred)\n",
    "print 'Accuracy: ' + str(acc)\n",
    "print 'Precision: ', precision_score(labels_test, pred)\n",
    "print 'Recall: ', recall_score(labels_test, pred)\n",
    "print 'F1 score:', f1_score(labels_test, pred)"
   ]
  },
  {
   "cell_type": "markdown",
   "metadata": {},
   "source": [
    "## AdaBoost"
   ]
  },
  {
   "cell_type": "code",
   "execution_count": 118,
   "metadata": {},
   "outputs": [
    {
     "name": "stdout",
     "output_type": "stream",
     "text": [
      "Accuracy: 0.8571428571428571\n",
      "Precision:  1.0\n",
      "Recall:  0.25\n",
      "F1 score: 0.4\n"
     ]
    }
   ],
   "source": [
    "clf = AdaBoostClassifier(algorithm='SAMME.R', base_estimator=None, learning_rate=1,\n",
    "          n_estimators=25, random_state=42)\n",
    "\n",
    "clf = clf.fit(features_train, labels_train)\n",
    "pred = clf.predict(features_test)\n",
    "\n",
    "acc = accuracy_score(labels_test, pred)\n",
    "print 'Accuracy: ' + str(acc)\n",
    "print 'Precision: ', precision_score(labels_test, pred)\n",
    "print 'Recall: ', recall_score(labels_test, pred)\n",
    "print 'F1 score:', f1_score(labels_test, pred)"
   ]
  },
  {
   "cell_type": "markdown",
   "metadata": {},
   "source": [
    "## SVC"
   ]
  },
  {
   "cell_type": "code",
   "execution_count": 119,
   "metadata": {},
   "outputs": [
    {
     "name": "stdout",
     "output_type": "stream",
     "text": [
      "Accuracy: 0.8333333333333334\n",
      "Precision:  1.0\n",
      "Recall:  0.125\n",
      "F1 score: 0.2222222222222222\n"
     ]
    }
   ],
   "source": [
    "clf = SVC(C=100, cache_size=7000, class_weight=None, coef0=0.0,\n",
    "  decision_function_shape='ovo', degree=3, gamma='auto_deprecated',\n",
    "  kernel='poly', max_iter=-1, probability=False, random_state=42,\n",
    "  shrinking=True, tol=0.0001, verbose=False)\n",
    "\n",
    "clf = clf.fit(features_train, labels_train)\n",
    "pred = clf.predict(features_test)\n",
    "\n",
    "acc = accuracy_score(labels_test, pred)\n",
    "print 'Accuracy: ' + str(acc)\n",
    "print 'Precision: ', precision_score(labels_test, pred)\n",
    "print 'Recall: ', recall_score(labels_test, pred)\n",
    "print 'F1 score:', f1_score(labels_test, pred)"
   ]
  },
  {
   "cell_type": "markdown",
   "metadata": {},
   "source": [
    "## Gaussian NB"
   ]
  },
  {
   "cell_type": "code",
   "execution_count": 120,
   "metadata": {},
   "outputs": [
    {
     "name": "stdout",
     "output_type": "stream",
     "text": [
      "Accuracy: 0.8333333333333334\n",
      "Precision:  0.6\n",
      "Recall:  0.375\n",
      "F1 score: 0.4615384615384615\n"
     ]
    }
   ],
   "source": [
    "clf = GaussianNB()\n",
    "clf = clf.fit(features_train, labels_train)\n",
    "pred = clf.predict(features_test)\n",
    "\n",
    "acc = accuracy_score(labels_test, pred)\n",
    "print 'Accuracy: ' + str(acc)\n",
    "print 'Precision: ', precision_score(labels_test, pred)\n",
    "print 'Recall: ', recall_score(labels_test, pred)\n",
    "print 'F1 score:', f1_score(labels_test, pred)"
   ]
  },
  {
   "cell_type": "markdown",
   "metadata": {},
   "source": [
    "> After testing many different classifiers with optimal parameters and optimal number of features, the Gaussian Naive Bayes classifier has the best overall scores. Several other classifers have a higher Accuracy, Recall, or Precision score, but GaussianNB has the highest overall in all 3 categories. It has above a .3 in both Precision and Recall, which no other models do."
   ]
  },
  {
   "cell_type": "markdown",
   "metadata": {},
   "source": [
    "##  Dumping classifier, dataset, and features_list"
   ]
  },
  {
   "cell_type": "code",
   "execution_count": 121,
   "metadata": {},
   "outputs": [],
   "source": [
    "dump_classifier_and_data(clf, my_dataset, features_list)"
   ]
  },
  {
   "cell_type": "markdown",
   "metadata": {},
   "source": [
    "> Running through test_classifier script"
   ]
  },
  {
   "cell_type": "code",
   "execution_count": 123,
   "metadata": {},
   "outputs": [
    {
     "name": "stdout",
     "output_type": "stream",
     "text": [
      "GaussianNB(priors=None, var_smoothing=1e-09)\n",
      "\tAccuracy: 0.85550\tPrecision: 0.49250\tRecall: 0.37750\tF1: 0.42740\tF2: 0.39599\n",
      "\tTotal predictions: 14000\tTrue positives:  755\tFalse positives:  778\tFalse negatives: 1245\tTrue negatives: 11222\n",
      "\n"
     ]
    }
   ],
   "source": [
    "test_classifier(clf, my_dataset, features_list, folds = 1000)"
   ]
  },
  {
   "cell_type": "markdown",
   "metadata": {},
   "source": [
    "## Questions"
   ]
  },
  {
   "cell_type": "markdown",
   "metadata": {},
   "source": [
    "#### Summarize for us the goal of this project and how machine learning is useful in trying to accomplish it. As part of your answer, give some background on the dataset and how it can be used to answer the project question. Were there any outliers in the data when you got it, and how did you handle those?"
   ]
  },
  {
   "cell_type": "markdown",
   "metadata": {},
   "source": [
    "> The goal of this project was to create a PoI identifier based on public Enron financial and email data. This can be created by finding the attributes that PoI have in common, and attributes that non PoIs have in common. Loading these into a machine learning algorithm, and the algorithm can try to detect who might be a PoI and who might not. There were several outliers that had to be removed, such as data in the wrong place, and a total summary of all data that was not needed."
   ]
  },
  {
   "cell_type": "markdown",
   "metadata": {},
   "source": [
    "#### What features did you end up using in your POI identifier, and what selection process did you use to pick them? Did you have to do any scaling? Why or why not? As part of the assignment, you should attempt to engineer your own feature that does not come ready-made in the dataset -- explain what feature you tried to make, and the rationale behind it. (You do not necessarily have to use it in the final analysis, only engineer and test it.) In your feature selection step, if you used an algorithm like a decision tree, please also give the feature importances of the features that you use, and if you used an automated feature selection function like SelectKBest, please report the feature scores and reasons for your choice of parameter values."
   ]
  },
  {
   "cell_type": "markdown",
   "metadata": {},
   "source": [
    "> The feature I created was the percentage of PoI emails to other PoIs, compared the the total emails from anyone to anyone. This caused the algorithm to have better performance than just using the original features. However, I then used selectkbest to choose the most optimal features to use and the feature I added was not chosen. Using the selected features caused the algorithm to have even better performance than when using the feature I created, so I used the features from selectKBest and did not add any others. The 4 main features were included. I also tried adding a 5th and 6th feature. 5 features had the best overall performance. Having lower than 5 reduced performance, and having higher than 5 reduced performance, therefore 5 features was used in all the models."
   ]
  },
  {
   "cell_type": "markdown",
   "metadata": {},
   "source": [
    "#### What algorithm did you end up using? What other one(s) did you try? How did model performance differ between algorithms?"
   ]
  },
  {
   "cell_type": "markdown",
   "metadata": {},
   "source": [
    "> The algorithm with the highest overall scores was the Gaussian Naive Bayes model. After comparing several algorithms with the selected features, Gaussian Naive Bayes had the best overall performance. It has above a .3 in both precision and recall, which no other models had."
   ]
  },
  {
   "cell_type": "markdown",
   "metadata": {},
   "source": [
    "#### What does it mean to tune the parameters of an algorithm, and what can happen if you don’t do this well? How did you tune the parameters of your particular algorithm? What parameters did you tune? (Some algorithms do not have parameters that you need to tune -- if this is the case for the one you picked, identify and briefly explain how you would have done it for the model that was not your final choice or a different model that does utilize parameter tuning, e.g. a decision tree classifier)."
   ]
  },
  {
   "cell_type": "markdown",
   "metadata": {},
   "source": [
    "> An algorithms parameters must be tuned to a certain extent. Too much or too little can lead to innacurate data and overfitting. The model was originally tuned by using SelectKBest. This chose the most optimal features to use, while getting rid of features that would only negatively affect performance. I then used GridSearchCV to find the most optimal parameters for the models tested. Another form of tuning is Feature Scaling. The model I used, Gaussian Naive Bayes, does not require feature scaling, so it was not used. However, in a model that does require feature scaling, it is necessary to use. Not using feature scaling can cause some features to have too much weight and some to not have enough. This can cause the data to become very skewed in one direction because of the weight of a certain feature. Feature scaling is necessary to manage the weights of all features and balance them as well as possible to obtain the most accurate data."
   ]
  },
  {
   "cell_type": "markdown",
   "metadata": {},
   "source": [
    "#### What is validation, and what’s a classic mistake you can make if you do it wrong? How did you validate your analysis?"
   ]
  },
  {
   "cell_type": "markdown",
   "metadata": {},
   "source": [
    "> Validation is the processed of checking to see how your model performs on unseen data. A classic mistake would be tuning your model be able to predict your training data very well , but then having it perform poorly on unseen out-of-sample testing data. This is called overfitting. One of the major goals in validation is to avoid overfitting, which can be accomplished through a process called cross-validation. This analysis was validated though Sklearns Train/Test/Split algorithm. This splits the data into both training and testing data to be used to train and test the algorithms and compare their performance to the actual data."
   ]
  },
  {
   "cell_type": "markdown",
   "metadata": {},
   "source": [
    "#### Give at least 2 evaluation metrics and your average performance for each of them. Explain an interpretation of your metrics that says something human-understandable about your algorithm’s performance."
   ]
  },
  {
   "cell_type": "markdown",
   "metadata": {},
   "source": [
    "> The Gaussian Naive Bayes with the specific features and tuned parameters was able to get an Accuracy score of ~ 83%, a Precision score of 60%, and a Recall score of ~ 37.5%. These scores, specifially the accuracy score, gives about a 83% chance for the algorithm to essentially guess who might be a PoI and who might not. This is significantly better than just guessing who might be a PoI by random selection of any of the 146 original people in the dataset, which would be more like less than 1% chance of a correct guess, based on no further information. However, by training the algorithm, it can achieve a fairly high accuracy in choosing who is a PoI and who is not."
   ]
  }
 ],
 "metadata": {
  "kernelspec": {
   "display_name": "Python 2",
   "language": "python",
   "name": "python2"
  },
  "language_info": {
   "codemirror_mode": {
    "name": "ipython",
    "version": 2
   },
   "file_extension": ".py",
   "mimetype": "text/x-python",
   "name": "python",
   "nbconvert_exporter": "python",
   "pygments_lexer": "ipython2",
   "version": "2.7.16"
  }
 },
 "nbformat": 4,
 "nbformat_minor": 2
}
