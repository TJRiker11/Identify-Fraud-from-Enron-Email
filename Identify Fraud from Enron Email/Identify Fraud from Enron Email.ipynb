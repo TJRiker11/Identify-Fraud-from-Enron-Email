{
 "cells": [
  {
   "cell_type": "markdown",
   "metadata": {},
   "source": [
    "# Identify Fraud from Enron Email"
   ]
  },
  {
   "cell_type": "markdown",
   "metadata": {},
   "source": [
    "## Introduction\n",
    "\n",
    "> In 2000, Enron was one of the largest companies in the United States. By 2002, it had collapsed into bankruptcy due to widespread corporate fraud. In the resulting Federal investigation, a significant amount of typically confidential information entered into the public record, including tens of thousands of emails and detailed financial data for top executives.\n",
    "\n",
    "> This project is to build a Person of Interest(PoI) identifier based on financial and email data made public as a result of the Enron scandal. A PoI is a person who falls under one of the following categories:\n",
    ">* Individuals who were indicted\n",
    ">* Individuals who reached a settlement or plea deal with the government\n",
    ">* Individuals who testified in exchange for prosecution immunity\n",
    "\n",
    "> Background, project overview, and questions to be answered can be found [Here](https://github.com/TrikerDev/Identify-Fraud-from-Enron-Email/blob/master/README.md). This full project and all files and data included can be found in [this Github Repository](https://github.com/TrikerDev/Identify-Fraud-from-Enron-Email). More specifically, there is information such as [Insider Pay](https://github.com/TrikerDev/Identify-Fraud-from-Enron-Email/blob/master/Identify%20Fraud%20from%20Enron%20Email/Enron%20Data/enron61702insiderpay.pdf), [emails from certain employees](https://github.com/TrikerDev/Identify-Fraud-from-Enron-Email/tree/master/Identify%20Fraud%20from%20Enron%20Email/Enron%20Data/emails_by_address), [PoI names](https://github.com/TrikerDev/Identify-Fraud-from-Enron-Email/blob/master/Identify%20Fraud%20from%20Enron%20Email/Enron%20Data/poi_names.txt), and more that can be found [Here](https://github.com/TrikerDev/Identify-Fraud-from-Enron-Email/tree/master/Identify%20Fraud%20from%20Enron%20Email/Enron%20Data)."
   ]
  },
  {
   "cell_type": "markdown",
   "metadata": {},
   "source": [
    "## Exploring Data"
   ]
  },
  {
   "cell_type": "code",
   "execution_count": 6,
   "metadata": {},
   "outputs": [
    {
     "ename": "ImportError",
     "evalue": "No module named cross_validation",
     "output_type": "error",
     "traceback": [
      "\u001b[1;31m---------------------------------------------------------------------------\u001b[0m",
      "\u001b[1;31mImportError\u001b[0m                               Traceback (most recent call last)",
      "\u001b[1;32m<ipython-input-6-8060573c798d>\u001b[0m in \u001b[0;36m<module>\u001b[1;34m()\u001b[0m\n\u001b[0;32m      5\u001b[0m \u001b[0msys\u001b[0m\u001b[1;33m.\u001b[0m\u001b[0mpath\u001b[0m\u001b[1;33m.\u001b[0m\u001b[0mappend\u001b[0m\u001b[1;33m(\u001b[0m\u001b[1;34m\"C:/Users/TJ/Identify-Fraud-from-Enron-Email/Identify Fraud from Enron Email/Enron Data\"\u001b[0m\u001b[1;33m)\u001b[0m\u001b[1;33m\u001b[0m\u001b[0m\n\u001b[0;32m      6\u001b[0m \u001b[1;32mfrom\u001b[0m \u001b[0mfeature_format\u001b[0m \u001b[1;32mimport\u001b[0m \u001b[0mfeatureFormat\u001b[0m\u001b[1;33m,\u001b[0m \u001b[0mtargetFeatureSplit\u001b[0m\u001b[1;33m\u001b[0m\u001b[0m\n\u001b[1;32m----> 7\u001b[1;33m \u001b[1;32mfrom\u001b[0m \u001b[0mtester\u001b[0m \u001b[1;32mimport\u001b[0m \u001b[0mdump_classifier_and_data\u001b[0m\u001b[1;33m\u001b[0m\u001b[0m\n\u001b[0m",
      "\u001b[1;32mC:/Users/TJ/Identify-Fraud-from-Enron-Email/Identify Fraud from Enron Email/Enron Data\\tester.py\u001b[0m in \u001b[0;36m<module>\u001b[1;34m()\u001b[0m\n\u001b[0;32m     13\u001b[0m \u001b[1;32mimport\u001b[0m \u001b[0mpickle\u001b[0m\u001b[1;33m\u001b[0m\u001b[0m\n\u001b[0;32m     14\u001b[0m \u001b[1;32mimport\u001b[0m \u001b[0msys\u001b[0m\u001b[1;33m\u001b[0m\u001b[0m\n\u001b[1;32m---> 15\u001b[1;33m \u001b[1;32mfrom\u001b[0m \u001b[0msklearn\u001b[0m\u001b[1;33m.\u001b[0m\u001b[0mcross_validation\u001b[0m \u001b[1;32mimport\u001b[0m \u001b[0mStratifiedShuffleSplit\u001b[0m\u001b[1;33m\u001b[0m\u001b[0m\n\u001b[0m\u001b[0;32m     16\u001b[0m \u001b[0msys\u001b[0m\u001b[1;33m.\u001b[0m\u001b[0mpath\u001b[0m\u001b[1;33m.\u001b[0m\u001b[0mappend\u001b[0m\u001b[1;33m(\u001b[0m\u001b[1;34m\"../tools/\"\u001b[0m\u001b[1;33m)\u001b[0m\u001b[1;33m\u001b[0m\u001b[0m\n\u001b[0;32m     17\u001b[0m \u001b[1;32mfrom\u001b[0m \u001b[0mfeature_format\u001b[0m \u001b[1;32mimport\u001b[0m \u001b[0mfeatureFormat\u001b[0m\u001b[1;33m,\u001b[0m \u001b[0mtargetFeatureSplit\u001b[0m\u001b[1;33m\u001b[0m\u001b[0m\n",
      "\u001b[1;31mImportError\u001b[0m: No module named cross_validation"
     ]
    }
   ],
   "source": [
    "# Importing libraries to be used\n",
    "import sys\n",
    "import pickle\n",
    "import sklearn\n",
    "sys.path.append(\"C:/Users/TJ/Identify-Fraud-from-Enron-Email/Identify Fraud from Enron Email/Enron Data\")\n",
    "from feature_format import featureFormat, targetFeatureSplit\n",
    "from tester import dump_classifier_and_data"
   ]
  },
  {
   "cell_type": "code",
   "execution_count": null,
   "metadata": {},
   "outputs": [],
   "source": []
  }
 ],
 "metadata": {
  "kernelspec": {
   "display_name": "Python 2",
   "language": "python",
   "name": "python2"
  },
  "language_info": {
   "codemirror_mode": {
    "name": "ipython",
    "version": 2
   },
   "file_extension": ".py",
   "mimetype": "text/x-python",
   "name": "python",
   "nbconvert_exporter": "python",
   "pygments_lexer": "ipython2",
   "version": "2.7.16"
  }
 },
 "nbformat": 4,
 "nbformat_minor": 2
}
